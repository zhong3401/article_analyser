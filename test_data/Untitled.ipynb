{
 "cells": [
  {
   "cell_type": "code",
   "execution_count": 1,
   "id": "17b6d425",
   "metadata": {},
   "outputs": [],
   "source": [
    "import pandas as pd\n",
    "import json"
   ]
  },
  {
   "cell_type": "code",
   "execution_count": null,
   "id": "15a3a30c",
   "metadata": {},
   "outputs": [],
   "source": [
    "# extract content string\n",
    "# get response contents (a list of content), a content contains a list of answer string \n",
    "def extract_contents(openai_objects):\n",
    "    if isinstance(openai_objects, dict):\n",
    "        openai_objects = [openai_objects]\n",
    "\n",
    "    contents = []\n",
    "    for obj in openai_objects:\n",
    "        choices = obj['choices']\n",
    "        content = []\n",
    "        for choice in choices:\n",
    "            content.append(choice['message']['content'])\n",
    "        contents.append(content)\n",
    "    return contents"
   ]
  },
  {
   "cell_type": "code",
   "execution_count": null,
   "id": "a087d741",
   "metadata": {},
   "outputs": [],
   "source": [
    "# parse string to json\n",
    "def extract_answers(contents):\n",
    "    answers = []\n",
    "    for content in contents:\n",
    "        answer_ls = []\n",
    "        for answer_str in content:\n",
    "#             answer_str = answer_str.replace('null', '\"null\"')\n",
    "            answer_str = answer_str.replace(\"\\n\", \"\")\n",
    "\n",
    "            try:\n",
    "                answer = json.loads(answer_str)\n",
    "                answer_ls.append(answer)\n",
    "            except json.JSONDecodeError:\n",
    "                answer_ls.append(None)\n",
    "                continue\n",
    "        answers.append(answer_ls)\n",
    "    return answers"
   ]
  },
  {
   "cell_type": "code",
   "execution_count": null,
   "id": "9846a88a",
   "metadata": {},
   "outputs": [],
   "source": [
    "# extract values from json\n",
    "def extract_values(answers):\n",
    "    values = []\n",
    "    for answer in answers:\n",
    "        value = []\n",
    "        for an in answer:\n",
    "            if an is not None:\n",
    "                value.append(an.get('current_inflation', None))\n",
    "                value.append(an.get('current_inflation_sentiment', None))\n",
    "                value.append(an.get('expected_inflation', None))\n",
    "                value.append(an.get('expected_inflation_sentiment', None))\n",
    "#                 value.append(an.get('explanation', None))\n",
    "            else:\n",
    "                value.extend([999, 999, 999, 999])\n",
    "        values.append(value)\n",
    "    return values"
   ]
  },
  {
   "cell_type": "code",
   "execution_count": null,
   "id": "dd9c0851",
   "metadata": {},
   "outputs": [],
   "source": [
    "def create_dataframe(openai_objects, values):\n",
    "    response_id = []\n",
    "    for obj in openai_objects:\n",
    "        response_id.append(obj['id'])\n",
    "        \n",
    "    column_labels = ['ci_0', 'cis_0', 'ei_0', 'eis_0',\n",
    "                     'ci_1', 'cis_1', 'ei_1', 'eis_1',\n",
    "                     'ci_2', 'cis_2', 'ei_2', 'eis_2',\n",
    "                     'ci_3', 'cis_3', 'ei_3', 'eis_3',\n",
    "                     'ci_4', 'cis_4', 'ei_4', 'eis_4']\n",
    "    df_values = pd.DataFrame(values, columns=column_labels)\n",
    "    df_values['response_id'] = response_id\n",
    "    return df_values"
   ]
  },
  {
   "cell_type": "code",
   "execution_count": null,
   "id": "e1a6a44a",
   "metadata": {},
   "outputs": [],
   "source": [
    "def parse_response(path_csv, path_response_json, path_output):\n",
    "    # Read the JSON file\n",
    "    with open(path_response_json, 'r', encoding='utf-8') as file:\n",
    "        json_data = file.readlines()\n",
    "\n",
    "    # Parse each JSON object\n",
    "    openai_objects = []\n",
    "    for line in json_data:\n",
    "        try:\n",
    "            json_object = json.loads(line)\n",
    "            openai_objects.append(json_object)\n",
    "        except json.JSONDecodeError as e:\n",
    "            pass\n",
    "        \n",
    "    contents = extract_contents(openai_objects)\n",
    "    answers = extract_answers(contents)\n",
    "    values = extract_values(answers)\n",
    "    df_values = create_dataframe(openai_objects, values)\n",
    "    \n",
    "    df_articles = pd.read_csv(path_csv)\n",
    "    \n",
    "    merged_df = pd.merge(df_articles, df_values, on='response_id')\n",
    "    \n",
    "    merged_df.to_csv(path_output, index=False, encoding='utf-8')"
   ]
  },
  {
   "cell_type": "code",
   "execution_count": null,
   "id": "60ef5fba",
   "metadata": {},
   "outputs": [],
   "source": []
  },
  {
   "cell_type": "code",
   "execution_count": null,
   "id": "15230a79",
   "metadata": {},
   "outputs": [],
   "source": []
  },
  {
   "cell_type": "code",
   "execution_count": null,
   "id": "c7b3784b",
   "metadata": {},
   "outputs": [],
   "source": []
  },
  {
   "cell_type": "code",
   "execution_count": null,
   "id": "44015671",
   "metadata": {},
   "outputs": [],
   "source": []
  },
  {
   "cell_type": "code",
   "execution_count": null,
   "id": "9d1e100a",
   "metadata": {},
   "outputs": [],
   "source": []
  },
  {
   "cell_type": "code",
   "execution_count": null,
   "id": "b9bbc914",
   "metadata": {},
   "outputs": [],
   "source": []
  },
  {
   "cell_type": "code",
   "execution_count": null,
   "id": "1e8c04db",
   "metadata": {},
   "outputs": [],
   "source": []
  },
  {
   "cell_type": "code",
   "execution_count": null,
   "id": "9e1fc751",
   "metadata": {},
   "outputs": [],
   "source": []
  },
  {
   "cell_type": "code",
   "execution_count": null,
   "id": "d3dfabf3",
   "metadata": {},
   "outputs": [],
   "source": []
  },
  {
   "cell_type": "code",
   "execution_count": null,
   "id": "c7d84308",
   "metadata": {},
   "outputs": [],
   "source": []
  }
 ],
 "metadata": {
  "kernelspec": {
   "display_name": "Python 3 (ipykernel)",
   "language": "python",
   "name": "python3"
  },
  "language_info": {
   "codemirror_mode": {
    "name": "ipython",
    "version": 3
   },
   "file_extension": ".py",
   "mimetype": "text/x-python",
   "name": "python",
   "nbconvert_exporter": "python",
   "pygments_lexer": "ipython3",
   "version": "3.8.8"
  }
 },
 "nbformat": 4,
 "nbformat_minor": 5
}
